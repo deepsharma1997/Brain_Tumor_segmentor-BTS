{
 "cells": [
  {
   "cell_type": "code",
   "execution_count": 1,
   "id": "68bca0d3-cf1b-48be-a6c7-27f1dd93d4d3",
   "metadata": {},
   "outputs": [],
   "source": [
    "import numpy as np\n",
    "import nibabel as nib\n",
    "import glob\n",
    "\n",
    "import matplotlib.pyplot as plt\n",
    "from tiffile import imsave\n",
    "from sklearn.preprocessing import MinMaxScaler\n",
    "scaler= MinMaxScaler()\n",
    "import os\n"
   ]
  },
  {
   "cell_type": "code",
   "execution_count": 2,
   "id": "c57056a6-8e46-4ecd-bfee-f91c85b8163e",
   "metadata": {},
   "outputs": [],
   "source": [
    "t2_list = sorted(glob.glob('D:/brats/BraTS2021_train/*/*t2.nii.gz'))\n",
    "t1_list = sorted(glob.glob('D:/brats/BraTS2021_train/*/*t1.nii.gz'))\n",
    "t1ce_list = sorted(glob.glob('D:/brats/BraTS2021_train/*/*t1ce.nii.gz'))\n",
    "flair_list = sorted(glob.glob('D:/brats/BraTS2021_train/*/*flair.nii.gz'))\n",
    "mask_list = sorted(glob.glob('D:/brats/BraTS2021_train/*/*seg.nii.gz'))"
   ]
  },
  {
   "cell_type": "code",
   "execution_count": 3,
   "id": "bdcb99f2-fa2e-46c8-8794-b87c3e8d0563",
   "metadata": {},
   "outputs": [
    {
     "data": {
      "text/plain": [
       "1251"
      ]
     },
     "execution_count": 3,
     "metadata": {},
     "output_type": "execute_result"
    }
   ],
   "source": [
    "len(t2_list)"
   ]
  },
  {
   "cell_type": "code",
   "execution_count": null,
   "id": "bc0e6df4-cf84-48bf-a39f-1003e5e33165",
   "metadata": {},
   "outputs": [],
   "source": [
    "#no\n",
    "for img in range(len(t2_list)):   \n",
    "    print(\"Now preparing image and masks number: \", img)\n",
    "\n",
    "    image= nib.load(flair_list[img])\n",
    "\n",
    "    #Load images in nifti format and stacking them to make a multi-modal file\n",
    "\n",
    "    temp_image_flair=nib.load(flair_list[img]).get_fdata()\n",
    "    temp_image_flair=scaler.fit_transform(temp_image_flair.reshape(-1, temp_image_flair.shape[-1])).reshape(temp_image_flair.shape)\n",
    "\n",
    "    temp_image_t1=nib.load(t1_list[img]).get_fdata()\n",
    "    temp_image_t1=scaler.fit_transform(temp_image_t1.reshape(-1, temp_image_t1.shape[-1])).reshape(temp_image_t1.shape)\n",
    "\n",
    "    temp_image_t1ce=nib.load(t1ce_list[img]).get_fdata()\n",
    "    temp_image_t1ce=scaler.fit_transform(temp_image_t1ce.reshape(-1, temp_image_t1ce.shape[-1])).reshape(temp_image_t1ce.shape)\n",
    "\n",
    "    temp_image_t2=nib.load(t2_list[img]).get_fdata()\n",
    "    temp_image_t2=scaler.fit_transform(temp_image_t2.reshape(-1, temp_image_t2.shape[-1])).reshape(temp_image_t2.shape)\n",
    "    \n",
    "    temp_combined_images = np.stack([temp_image_flair, temp_image_t1, temp_image_t1ce, temp_image_t2], axis=3)\n",
    "\n",
    "    #load mask and adjust the labels as per the monai format\n",
    "   \n",
    "    temp_mask=nib.load(mask_list[img]).get_fdata()\n",
    "    temp_mask=temp_mask.astype(np.uint8)\n",
    "    temp_mask[temp_mask==4] = 3  \n",
    "    temp_mask[temp_mask==1] = 4\n",
    "    temp_mask[temp_mask==2] = 5\n",
    "    temp_mask[temp_mask==4] = 2\n",
    "    temp_mask[temp_mask==5] = 1\n",
    "\n",
    "    final_mask = nib.Nifti1Image(temp_mask, image.affine)\n",
    "    final_image = nib.Nifti1Image(temp_combined_images, image.affine)\n",
    "\n",
    "    #save the stacked images and corresponding multi-label mask\n",
    "\n",
    "    nib.save(final_image, 'D:/brats/sample/images/BRATS_'+str(img)+'.nii.gz')\n",
    "   \n",
    "    nib.save(final_mask, 'D:/brats/sample/masks/BRATS_'+str(img)+'.nii.gz')\n"
   ]
  }
 ],
 "metadata": {
  "kernelspec": {
   "display_name": "Python 3 (ipykernel)",
   "language": "python",
   "name": "python3"
  },
  "language_info": {
   "codemirror_mode": {
    "name": "ipython",
    "version": 3
   },
   "file_extension": ".py",
   "mimetype": "text/x-python",
   "name": "python",
   "nbconvert_exporter": "python",
   "pygments_lexer": "ipython3",
   "version": "3.11.5"
  }
 },
 "nbformat": 4,
 "nbformat_minor": 5
}
